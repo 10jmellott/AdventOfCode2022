{
 "cells": [
  {
   "cell_type": "markdown",
   "id": "3a90309e-799b-4bae-9789-b3c6f1dda8e0",
   "metadata": {},
   "source": [
    "# Advent of Code 2022\n",
    "\n",
    "Advent of Code is a celebration of coding mixed with the holiday spirit. In 2022 we are working towards feeding the reindeer with enough fruit to send them on their way on Christmas day.\n",
    "\n",
    "> Santa's reindeer typically eat regular reindeer food, but they need a lot of magical energy to deliver presents on Christmas. For that, their favorite snack is a special type of star fruit that only grows deep in the jungle. The Elves have brought you on their annual expedition to the grove where the fruit grows.\n",
    "\n",
    "> To supply enough magical energy, the expedition needs to retrieve a minimum of fifty stars by December 25th. Although the Elves assure you that the grove has plenty of fruit, you decide to grab any fruit you see along the way, just in case.\n"
   ]
  },
  {
   "cell_type": "markdown",
   "id": "f66fda4c-293c-4991-982c-51f6ef70ad9f",
   "metadata": {},
   "source": [
    "## Shared\n",
    "\n",
    "Commonly used imports throughout the application will make things a little easier moving forward"
   ]
  },
  {
   "cell_type": "code",
   "execution_count": 1,
   "id": "85522d7e-3f2e-4291-9999-2c2b0cd7e61e",
   "metadata": {},
   "outputs": [],
   "source": [
    "from functools import reduce"
   ]
  },
  {
   "cell_type": "markdown",
   "id": "bca43873-9154-44a9-b7ef-22984003e13b",
   "metadata": {},
   "source": [
    "# Day 1: Calorie Counting\n",
    "\n",
    "The elves are beginning a foot expedition through the jungle to begin collecting fruit for the reindeer. The elves are on foot and, as a result, are all bringing a certain amount of food with them. However, some elves are worried they might not have enough food and have asked us to find out who has the most food so we know who to ask just in case."
   ]
  },
  {
   "cell_type": "markdown",
   "id": "e4f042ad-fc7c-4050-a62a-1c98aa955bad",
   "metadata": {},
   "source": [
    "Open up the sheet with information on how many calories each elf has. "
   ]
  },
  {
   "cell_type": "code",
   "execution_count": 2,
   "id": "36ea81b8-3aae-4fdc-b20f-b021298beb24",
   "metadata": {},
   "outputs": [],
   "source": [
    "f = open('data/01.txt', 'r')"
   ]
  },
  {
   "cell_type": "markdown",
   "id": "16ced84e-a06c-4d06-9152-a3312c1ab3ee",
   "metadata": {},
   "source": [
    "Parse the data into an array of elves with each elf's itemized list of food items (measured by calories)"
   ]
  },
  {
   "cell_type": "code",
   "execution_count": 3,
   "id": "e6869391-5cb3-40a4-8d4e-46f46dd94776",
   "metadata": {},
   "outputs": [],
   "source": [
    "elves = list()\n",
    "currentElf = list()\n",
    "for line in f:\n",
    "    if line == '\\n':\n",
    "        elves.append(currentElf)\n",
    "        currentElf = list()\n",
    "    else:\n",
    "        currentElf.append(int(line.strip('\\n')))\n",
    "elves.append(currentElf)"
   ]
  },
  {
   "cell_type": "markdown",
   "id": "da8f5d0c-62a8-47ef-846c-58daf037fd0a",
   "metadata": {},
   "source": [
    "Next, we want to tally up each elf's caloric total and order them so we know which elves have the most calories."
   ]
  },
  {
   "cell_type": "code",
   "execution_count": 4,
   "id": "d37f912d-4d8d-4578-836d-eb223535ac90",
   "metadata": {},
   "outputs": [],
   "source": [
    "calories = list(map(lambda l: reduce(lambda a, b: a+b, l), elves))\n",
    "calories.sort()"
   ]
  },
  {
   "cell_type": "markdown",
   "id": "753b5a96-6973-42e3-9864-6691a2e62cef",
   "metadata": {},
   "source": [
    "The first part asks us which elf has the most calories. Pretty simply in python as the calorie list is already sorted we just want the highest value which is the last item in the list, i.e. index -1."
   ]
  },
  {
   "cell_type": "code",
   "execution_count": 5,
   "id": "e6b7cec5-a89a-4f8b-9a22-6225c4d0b48e",
   "metadata": {},
   "outputs": [
    {
     "data": {
      "text/plain": [
       "67633"
      ]
     },
     "execution_count": 5,
     "metadata": {},
     "output_type": "execute_result"
    }
   ],
   "source": [
    "calories[-1]"
   ]
  },
  {
   "cell_type": "markdown",
   "id": "208189f5-0bd5-48a1-9a9b-79f9cac018a7",
   "metadata": {},
   "source": [
    "That's enough food for a human adult for easily over a month...are they riding on a donkey or something?"
   ]
  },
  {
   "cell_type": "markdown",
   "id": "fb88e670-1d55-4055-aae2-ddbec984f6be",
   "metadata": {},
   "source": [
    "The elves realize that if they cannibalize only the elf with the highest calorie count, there's too many elves and we'll end up depleting that elf solely of calories. Instead, they want the total calories for the top three elves with the most calories. As the list is still sorted, we slice out of the array the last three values in the calorie array and sum them together."
   ]
  },
  {
   "cell_type": "code",
   "execution_count": 6,
   "id": "7ac74a39-54c5-400f-8476-10b7e495a431",
   "metadata": {},
   "outputs": [
    {
     "data": {
      "text/plain": [
       "199628"
      ]
     },
     "execution_count": 6,
     "metadata": {},
     "output_type": "execute_result"
    }
   ],
   "source": [
    "sum(calories[-3:])"
   ]
  },
  {
   "cell_type": "markdown",
   "id": "db4fbb15-ab7c-492d-b141-35c388ec92c6",
   "metadata": {},
   "source": [
    "# Day 2: Rock Paper Scissors\n",
    "\n",
    "The elves set up camp on the beach and start playing Rock, Paper, Scissors. One elf attempts to help us cheat by providing us with an encrypted strategy guide to help us win."
   ]
  },
  {
   "cell_type": "markdown",
   "id": "8825d564-39bc-4764-8459-05392905192e",
   "metadata": {},
   "source": [
    "Read in the encrypted data files & parse it into the rounds. The first value can be A, B, or C representing rock, paper, or scissor. The second value for each round is what we should throw out, X, Y, or Z representing rock, paper, or scissors respectively as well."
   ]
  },
  {
   "cell_type": "code",
   "execution_count": 7,
   "id": "e85a3d60-5ac7-427f-a620-c832fcbdc0de",
   "metadata": {},
   "outputs": [],
   "source": [
    "f = open('data/02.txt', 'r')\n",
    "rounds = list(map(lambda l: l.split(), f))"
   ]
  },
  {
   "cell_type": "markdown",
   "id": "9c103b13-6bc1-417f-8a01-5ad073f32f41",
   "metadata": {},
   "source": [
    "To make things easier, let's normalize the data. I don't love magic strings, but this isn't a large project so deal with it."
   ]
  },
  {
   "cell_type": "code",
   "execution_count": 8,
   "id": "67e6c767-c660-4784-a90b-4b8551dd7933",
   "metadata": {},
   "outputs": [],
   "source": [
    "normalize = {\n",
    "    'A': 'Rock', 'B': 'Paper', 'C': 'Scissors',\n",
    "    'X': 'Rock', 'Y': 'Paper', 'Z': 'Scissors'\n",
    "}\n",
    "rounds = list(map(lambda l: list(map(lambda r: normalize[r], l)), rounds))"
   ]
  },
  {
   "cell_type": "markdown",
   "id": "e1a19f00-27aa-4a95-af05-e33078875cb1",
   "metadata": {},
   "source": [
    "Now we want to setup a function to be able to score each round. The scoring rules are fairly complex, but your score for each round is determined as 0 for losing, 3 for a draw, and 6 for a win. Additionally you gain 1, 2, or 3 points depending on whether your hand was a rock, paper, or scissors respectively."
   ]
  },
  {
   "cell_type": "code",
   "execution_count": 9,
   "id": "ded2dcba-1caf-4d35-a9a8-15145fa32a27",
   "metadata": {},
   "outputs": [],
   "source": [
    "lose_table = {\n",
    "    'Rock': 'Paper',\n",
    "    'Paper': 'Scissors',\n",
    "    'Scissors': 'Rock'\n",
    "}\n",
    "\n",
    "score_add = { 'Rock': 1, 'Paper': 2, 'Scissors': 3 }\n",
    "\n",
    "score_lose = 0\n",
    "score_draw = 3\n",
    "score_win = 6\n",
    "\n",
    "def scoreRound(r):\n",
    "    score = score_add[r[1]]\n",
    "    if r[0] == r[1]:\n",
    "        score += score_draw\n",
    "    elif lose_table[r[1]] == r[0]:\n",
    "        score += score_lose\n",
    "    else:\n",
    "        score += score_win\n",
    "    return score"
   ]
  },
  {
   "cell_type": "markdown",
   "id": "eac69c4b-6ac6-4932-b44b-4b8eeb4e3971",
   "metadata": {},
   "source": [
    "Next, we want to actually check each round for the score and tally them"
   ]
  },
  {
   "cell_type": "code",
   "execution_count": 10,
   "id": "fb1f7455-fdb1-4df2-a28d-8b378ab6283a",
   "metadata": {},
   "outputs": [],
   "source": [
    "scores = list(map(lambda r: scoreRound(r), rounds))"
   ]
  },
  {
   "cell_type": "markdown",
   "id": "d26b9102-d6d0-42c3-9769-923b67f58b62",
   "metadata": {},
   "source": [
    "Finally, the first part requests us to find the sum of the scores"
   ]
  },
  {
   "cell_type": "code",
   "execution_count": 11,
   "id": "7cae9817-08d5-4191-ac95-4a14b7a96018",
   "metadata": {},
   "outputs": [
    {
     "data": {
      "text/plain": [
       "15422"
      ]
     },
     "execution_count": 11,
     "metadata": {},
     "output_type": "execute_result"
    }
   ],
   "source": [
    "sum(scores)"
   ]
  },
  {
   "cell_type": "markdown",
   "id": "19e8e84a-423c-4b11-b55f-68198ac8a431",
   "metadata": {},
   "source": [
    "After chatting with the elf who left us to our own devices to figure this thing out, they actually told us that X means we need to lose, Y means we need to draw, and Z means we need to win. So, we need to re-normalize the data a little differently first. We know how the data was normalized the first time, so we can use the existing data without issue."
   ]
  },
  {
   "cell_type": "code",
   "execution_count": 12,
   "id": "3a5affb3-150f-4991-8625-0e0a83d37745",
   "metadata": {},
   "outputs": [],
   "source": [
    "win_table = {\n",
    "    'Rock': 'Scissors',\n",
    "    'Paper': 'Rock',\n",
    "    'Scissors': 'Paper'\n",
    "}\n",
    "\n",
    "def stageHand(r):\n",
    "    if r[1] == 'Rock':\n",
    "        r[1] = win_table[r[0]]\n",
    "    elif r[1] == 'Paper':\n",
    "        r[1] = r[0]\n",
    "    else:\n",
    "        r[1] = lose_table[r[0]]\n",
    "    return r\n",
    "\n",
    "rounds = list(map(stageHand, rounds))"
   ]
  },
  {
   "cell_type": "markdown",
   "id": "b1fa4b8c-7888-4315-955c-5cc8eb86e2a8",
   "metadata": {},
   "source": [
    "Same as before then, we want to simply score each round with the new round setup"
   ]
  },
  {
   "cell_type": "code",
   "execution_count": 13,
   "id": "b3ee9daa-d755-4aad-9c32-4bc1c0af93c6",
   "metadata": {},
   "outputs": [
    {
     "data": {
      "text/plain": [
       "15442"
      ]
     },
     "execution_count": 13,
     "metadata": {},
     "output_type": "execute_result"
    }
   ],
   "source": [
    "scores = list(map(lambda r: scoreRound(r), rounds))\n",
    "sum(scores)"
   ]
  }
 ],
 "metadata": {
  "kernelspec": {
   "display_name": "Python 3 (ipykernel)",
   "language": "python",
   "name": "python3"
  },
  "language_info": {
   "codemirror_mode": {
    "name": "ipython",
    "version": 3
   },
   "file_extension": ".py",
   "mimetype": "text/x-python",
   "name": "python",
   "nbconvert_exporter": "python",
   "pygments_lexer": "ipython3",
   "version": "3.9.7"
  },
  "toc-autonumbering": false,
  "toc-showcode": false,
  "toc-showmarkdowntxt": false
 },
 "nbformat": 4,
 "nbformat_minor": 5
}
